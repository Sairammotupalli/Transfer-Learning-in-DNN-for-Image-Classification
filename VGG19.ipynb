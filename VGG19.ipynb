{
  "nbformat": 4,
  "nbformat_minor": 0,
  "metadata": {
    "colab": {
      "provenance": []
    },
    "kernelspec": {
      "name": "python3",
      "display_name": "Python 3"
    },
    "language_info": {
      "name": "python"
    },
    "accelerator": "GPU",
    "gpuClass": "standard"
  },
  "cells": [
    {
      "cell_type": "code",
      "execution_count": null,
      "metadata": {
        "id": "Vs1NwfIjgCw3"
      },
      "outputs": [],
      "source": [
        "import numpy as np\n",
        "import pandas as pd\n",
        "from sklearn.utils.multiclass import unique_labels\n",
        "import os\n",
        "from sklearn import metrics\n",
        "import matplotlib.pyplot as plt\n",
        "import matplotlib.image as mpimg\n",
        "from keras_preprocessing.image import ImageDataGenerator, img_to_array, load_img\n",
        "import seaborn as sns\n",
        "from keras import applications\n",
        "import itertools\n",
        "from sklearn.model_selection import train_test_split\n",
        "from sklearn.metrics import confusion_matrix\n",
        "from keras import Sequential\n",
        "from keras import applications\n",
        "from keras.applications import VGG19 #For Transfer Learning\n",
        "from keras.preprocessing.image import ImageDataGenerator\n",
        "from keras.optimizers import SGD,Adam\n",
        "from keras.callbacks import ReduceLROnPlateau\n",
        "from keras.layers import Flatten,Dense,BatchNormalization,Activation,Dropout\n",
        "from keras.utils import to_categorical\n",
        "import math\n",
        "import datetime\n",
        "import time\n",
        "import os"
      ]
    },
    {
      "cell_type": "code",
      "source": [
        "from google.colab import drive\n",
        "drive.mount('/content/drive')"
      ],
      "metadata": {
        "id": "OqxdGHflgFrT",
        "colab": {
          "base_uri": "https://localhost:8080/"
        },
        "outputId": "ee774e6b-bb8f-4a92-c86b-144037d4f1c3"
      },
      "execution_count": null,
      "outputs": [
        {
          "output_type": "stream",
          "name": "stdout",
          "text": [
            "Mounted at /content/drive\n"
          ]
        }
      ]
    },
    {
      "cell_type": "code",
      "source": [
        "pip install split-folders --quiet"
      ],
      "metadata": {
        "id": "ajxpd9b1ghWK"
      },
      "execution_count": null,
      "outputs": []
    },
    {
      "cell_type": "code",
      "source": [
        "pip install scipy"
      ],
      "metadata": {
        "colab": {
          "base_uri": "https://localhost:8080/"
        },
        "id": "727gA_4tisZO",
        "outputId": "2aed66a1-f61d-45c8-a45a-940810dd366f"
      },
      "execution_count": null,
      "outputs": [
        {
          "output_type": "stream",
          "name": "stdout",
          "text": [
            "Looking in indexes: https://pypi.org/simple, https://us-python.pkg.dev/colab-wheels/public/simple/\n",
            "Requirement already satisfied: scipy in /usr/local/lib/python3.8/dist-packages (1.7.3)\n",
            "Requirement already satisfied: numpy<1.23.0,>=1.16.5 in /usr/local/lib/python3.8/dist-packages (from scipy) (1.21.6)\n"
          ]
        }
      ]
    },
    {
      "cell_type": "code",
      "source": [
        "# import pertinent libraries\n",
        "import os\n",
        "import sys\n",
        "import datetime\n",
        "import glob as glob\n",
        "import numpy as np\n",
        "import cv2\n",
        "# [Keras Models]\n",
        "# import the Keras implementations of VGG16, VGG19, InceptionV3 and Xception models\n",
        "# the model used here is VGG16\n",
        "from keras.applications.vgg16 import VGG16, preprocess_input\n",
        "from keras.models import Model\n",
        "from keras.layers import Dense, GlobalAveragePooling2D\n",
        "from keras_preprocessing.image import ImageDataGenerator, array_to_img, img_to_array, load_img\n",
        "from keras.optimizers import SGD\n",
        "import tensorflow\n",
        "from scipy.interpolate import UnivariateSpline\n",
        "import pandas as pd\n",
        "import matplotlib.pyplot as plt\n",
        "%matplotlib inline"
      ],
      "metadata": {
        "id": "JvEaV5jGgkgx"
      },
      "execution_count": null,
      "outputs": []
    },
    {
      "cell_type": "code",
      "source": [
        "import splitfolders\n",
        "splitfolders.ratio(\"/content/drive/MyDrive/Project/Danger Of Extinction\",output='Splitted',ratio=(0.8,0.1,0.1))"
      ],
      "metadata": {
        "colab": {
          "base_uri": "https://localhost:8080/"
        },
        "id": "nxdCqKxpjsVu",
        "outputId": "ca13be95-323e-4279-b5e3-f9c4af806011"
      },
      "execution_count": null,
      "outputs": [
        {
          "output_type": "stream",
          "name": "stderr",
          "text": [
            "Copying files: 6700 files [04:14, 26.34 files/s]\n"
          ]
        }
      ]
    },
    {
      "cell_type": "code",
      "source": [
        "# [Dataset]\n",
        "# image dimensions for VGG16, VGG19 are 224, 224\n",
        "# image dimensions for InceptionV3 and Xception are 299, 299\n",
        "img_width, img_height = 224, 224\n",
        "train_dir = \"./Splitted/train\"\n",
        "validate_dir = \"./Splitted/val\"\n",
        "test_dir = \"./Splitted/test\"\n",
        "nb_epochs = 10\n",
        "batch_size = 32\n",
        "nb_classes = len(glob.glob(train_dir + '/*'))\n",
        "\n",
        "# get number of images in training directory\n",
        "nb_train_samples = 0\n",
        "for r, dirs, files in os.walk(train_dir):\n",
        "    for dr in dirs:\n",
        "        nb_train_samples += len(glob.glob(os.path.join(r, dr + \"/*\")))\n",
        "# get number of images in validation directory\n",
        "nb_validate_samples = 0\n",
        "for r, dirs, files in os.walk(validate_dir):\n",
        "    for dr in dirs:\n",
        "        nb_validate_samples += len(glob.glob(os.path.join(r, dr + \"/*\")))"
      ],
      "metadata": {
        "id": "Op3e2sNvhb5Y"
      },
      "execution_count": null,
      "outputs": []
    },
    {
      "cell_type": "code",
      "source": [
        "# data pre-processing for training\n",
        "train_datagen =  ImageDataGenerator(\n",
        "    rescale = 1./255,\n",
        "    rotation_range = 20,\n",
        "    width_shift_range = 0.2,\n",
        "    height_shift_range = 0.2,\n",
        "    shear_range = 0.2,\n",
        "    zoom_range = 0.2,\n",
        "    fill_mode = 'nearest',\n",
        "    horizontal_flip = True)\n",
        "\n",
        "# data pre-processing for validation\n",
        "validate_datagen =  ImageDataGenerator(\n",
        "    rescale = 1./255,\n",
        "    rotation_range = 20,\n",
        "    width_shift_range = 0.2,\n",
        "    height_shift_range = 0.2,\n",
        "    shear_range = 0.2,\n",
        "    zoom_range = 0.2,\n",
        "    fill_mode = 'nearest',\n",
        "    horizontal_flip = True)"
      ],
      "metadata": {
        "id": "XlYAFV1IkGrR"
      },
      "execution_count": null,
      "outputs": []
    },
    {
      "cell_type": "code",
      "source": [
        "# generate and store training data\n",
        "train_generator = train_datagen.flow_from_directory(\n",
        "    train_dir,\n",
        "    target_size = (img_width, img_height),\n",
        "    batch_size = batch_size)\n",
        "\n",
        "# generate and store validation data\n",
        "validate_generator = validate_datagen.flow_from_directory(\n",
        "    validate_dir,\n",
        "    target_size = (img_width, img_height),\n",
        "    batch_size = batch_size)"
      ],
      "metadata": {
        "colab": {
          "base_uri": "https://localhost:8080/"
        },
        "id": "RRJ_mJ-2kNjW",
        "outputId": "94a633b5-ab02-44db-a741-da4c8bf4305b"
      },
      "execution_count": null,
      "outputs": [
        {
          "output_type": "stream",
          "name": "stdout",
          "text": [
            "Found 5349 images belonging to 21 classes.\n",
            "Found 663 images belonging to 21 classes.\n"
          ]
        }
      ]
    },
    {
      "cell_type": "code",
      "source": [
        "# set up transfer learning on pre-trained ImageNet VGG19 model - remove fully connected layer and replace\n",
        "# with softmax for classifying the number of classes in the dataset\n",
        "vgg19_model = VGG19(weights = 'imagenet', include_top = False)\n",
        "x = vgg19_model.output\n",
        "x = GlobalAveragePooling2D()(x)\n",
        "x = Dense(1024, activation='relu')(x)\n",
        "predictions = Dense(nb_classes, activation = 'softmax')(x)\n",
        "model = Model(inputs = vgg19_model.input, outputs = predictions)"
      ],
      "metadata": {
        "id": "t8WCyXfpkSCJ",
        "colab": {
          "base_uri": "https://localhost:8080/"
        },
        "outputId": "48100bb2-595d-4c87-e688-255ac350cec0"
      },
      "execution_count": null,
      "outputs": [
        {
          "output_type": "stream",
          "name": "stdout",
          "text": [
            "Downloading data from https://storage.googleapis.com/tensorflow/keras-applications/vgg19/vgg19_weights_tf_dim_ordering_tf_kernels_notop.h5\n",
            "80134624/80134624 [==============================] - 4s 0us/step\n"
          ]
        }
      ]
    },
    {
      "cell_type": "code",
      "source": [
        "# freeze all layers of the pre-trained InceptionV3 model\n",
        "for layer in vgg19_model.layers:\n",
        "    layer.trainable = False"
      ],
      "metadata": {
        "id": "LYP6CprJmXlp"
      },
      "execution_count": null,
      "outputs": []
    },
    {
      "cell_type": "code",
      "source": [
        "# compile the new model using a RMSProp optimizer\n",
        "model.compile(optimizer = 'rmsprop',\n",
        "    loss = 'categorical_crossentropy',\n",
        "    metrics = ['accuracy'])"
      ],
      "metadata": {
        "id": "DEp8MeUSnOYG"
      },
      "execution_count": null,
      "outputs": []
    },
    {
      "cell_type": "code",
      "source": [
        "# fit the model, log the results and the training time\n",
        "now = datetime.datetime.now\n",
        "t = now()\n",
        "transfer_learning_history = model.fit_generator(\n",
        "    train_generator,\n",
        "    epochs = nb_epochs,\n",
        "    steps_per_epoch = 100,\n",
        "    validation_data = validate_generator,\n",
        "    validation_steps = nb_validate_samples,\n",
        "    class_weight=None)\n",
        "print('Training time: %s' % (now() - t))"
      ],
      "metadata": {
        "colab": {
          "base_uri": "https://localhost:8080/"
        },
        "id": "fmH_fd5mnX8z",
        "outputId": "c323d0fd-1603-420d-e8f0-bbce9b56e46a"
      },
      "execution_count": null,
      "outputs": [
        {
          "output_type": "stream",
          "name": "stderr",
          "text": [
            "<ipython-input-13-f433a8d09db8>:4: UserWarning: `Model.fit_generator` is deprecated and will be removed in a future version. Please use `Model.fit`, which supports generators.\n",
            "  transfer_learning_history = model.fit_generator(\n"
          ]
        },
        {
          "output_type": "stream",
          "name": "stdout",
          "text": [
            "Epoch 1/10\n",
            " 168/5354 [..............................] - ETA: 42:43 - loss: 1.9819 - accuracy: 0.3389"
          ]
        },
        {
          "output_type": "stream",
          "name": "stderr",
          "text": [
            "WARNING:tensorflow:Your input ran out of data; interrupting training. Make sure that your dataset or generator can generate at least `steps_per_epoch * epochs` batches (in this case, 53540 batches). You may need to use the repeat() function when building your dataset.\n",
            "WARNING:tensorflow:Your input ran out of data; interrupting training. Make sure that your dataset or generator can generate at least `steps_per_epoch * epochs` batches (in this case, 664 batches). You may need to use the repeat() function when building your dataset.\n"
          ]
        },
        {
          "output_type": "stream",
          "name": "stdout",
          "text": [
            "\b\b\b\b\b\b\b\b\b\b\b\b\b\b\b\b\b\b\b\b\b\b\b\b\b\b\b\b\b\b\b\b\b\b\b\b\b\b\b\b\b\b\b\b\b\b\b\b\b\b\b\b\b\b\b\b\b\b\b\b\b\b\b\b\b\b\b\b\b\b\b\b\b\b\b\b\b\b\b\b\b\b\b\b\b\b\b\b\b\r5354/5354 [==============================] - 108s 18ms/step - loss: 1.9819 - accuracy: 0.3389 - val_loss: 1.6461 - val_accuracy: 0.4585\n",
            "Training time: 0:01:48.449215\n"
          ]
        }
      ]
    },
    {
      "cell_type": "code",
      "source": [
        "# evaluate the performance the new model and report the results\n",
        "score = model.evaluate_generator(validate_generator, nb_validate_samples/batch_size)\n",
        "print(\"Test Score:\", score[0])\n",
        "print(\"Test Accuracy:\", score[1])"
      ],
      "metadata": {
        "colab": {
          "base_uri": "https://localhost:8080/"
        },
        "id": "6XSLoQnvvEwx",
        "outputId": "e482a9d2-0fdf-465f-cf10-ae888d91f8e0"
      },
      "execution_count": null,
      "outputs": [
        {
          "output_type": "stream",
          "name": "stderr",
          "text": [
            "<ipython-input-15-b1de38505234>:2: UserWarning: `Model.evaluate_generator` is deprecated and will be removed in a future version. Please use `Model.evaluate`, which supports generators.\n",
            "  score = model.evaluate_generator(validate_generator, nb_validate_samples/batch_size)\n"
          ]
        },
        {
          "output_type": "stream",
          "name": "stdout",
          "text": [
            "Test Score: 1.6652741432189941\n",
            "Test Accuracy: 0.4600301682949066\n"
          ]
        }
      ]
    },
    {
      "cell_type": "code",
      "source": [
        "from scipy import interpolate"
      ],
      "metadata": {
        "id": "DvI5XTFT_MMH"
      },
      "execution_count": null,
      "outputs": []
    },
    {
      "cell_type": "code",
      "source": [
        "# save transfer learning model for offline prediction purposes\n",
        "model.save('butterflies_vgg19_model_tl.h5')"
      ],
      "metadata": {
        "id": "1dHXsg0dvTKp"
      },
      "execution_count": null,
      "outputs": []
    },
    {
      "cell_type": "code",
      "source": [
        "from scipy import interpolate\n",
        "from scipy.interpolate import UnivariateSpline"
      ],
      "metadata": {
        "id": "LX2ulQN5wBe7"
      },
      "execution_count": null,
      "outputs": []
    },
    {
      "cell_type": "markdown",
      "source": [
        "<h1>Fine Tuning"
      ],
      "metadata": {
        "id": "qhbKNwOmx3t5"
      }
    },
    {
      "cell_type": "code",
      "source": [
        "# Step 1 - Set up fine tuning on pre-trained ImageNet vgg19 model - train all layers for VGG16 and VGG19 models but only the Layers from\n",
        "# 94 and above for the Inception V3 and Xception models\n",
        "for layer in model.layers:\n",
        "    layer.trainable = True\n",
        "\n",
        "# Step 2 - Compile the revised model using SGD optimizer with a learing rate of 0.0001 and a momentum of 0.9\n",
        "model.compile(optimizer = SGD(lr = 0.0001, momentum=0.9),\n",
        "    loss = 'categorical_crossentropy',\n",
        "    metrics = ['accuracy'])\n",
        "\n",
        "# Step 3 - Fit the revised model, log the results and the training time\n",
        "now = datetime.datetime.now\n",
        "t = now()\n",
        "fine_tuning_history = model.fit_generator(\n",
        "    train_generator,\n",
        "    epochs = nb_epochs,\n",
        "    steps_per_epoch = 100,\n",
        "    validation_data = validate_generator,\n",
        "    validation_steps = nb_validate_samples,\n",
        "    class_weight=None)\n",
        "print('Training time: %s' % (now() - t))"
      ],
      "metadata": {
        "colab": {
          "base_uri": "https://localhost:8080/"
        },
        "id": "Cqdh9USJx4yN",
        "outputId": "60f1cc1b-a339-477a-99b8-ca874f782457"
      },
      "execution_count": null,
      "outputs": [
        {
          "output_type": "stream",
          "name": "stderr",
          "text": [
            "/usr/local/lib/python3.8/dist-packages/keras/optimizers/optimizer_v2/gradient_descent.py:108: UserWarning: The `lr` argument is deprecated, use `learning_rate` instead.\n",
            "  super(SGD, self).__init__(name, **kwargs)\n",
            "<ipython-input-24-2818f39817c9>:14: UserWarning: `Model.fit_generator` is deprecated and will be removed in a future version. Please use `Model.fit`, which supports generators.\n",
            "  fine_tuning_history = model.fit_generator(\n"
          ]
        },
        {
          "output_type": "stream",
          "name": "stdout",
          "text": [
            "Epoch 1/10\n",
            " 168/5354 [..............................] - ETA: 54:25 - loss: 1.1527 - accuracy: 0.6394"
          ]
        },
        {
          "output_type": "stream",
          "name": "stderr",
          "text": [
            "WARNING:tensorflow:Your input ran out of data; interrupting training. Make sure that your dataset or generator can generate at least `steps_per_epoch * epochs` batches (in this case, 53540 batches). You may need to use the repeat() function when building your dataset.\n",
            "WARNING:tensorflow:Your input ran out of data; interrupting training. Make sure that your dataset or generator can generate at least `steps_per_epoch * epochs` batches (in this case, 664 batches). You may need to use the repeat() function when building your dataset.\n"
          ]
        },
        {
          "output_type": "stream",
          "name": "stdout",
          "text": [
            "\b\b\b\b\b\b\b\b\b\b\b\b\b\b\b\b\b\b\b\b\b\b\b\b\b\b\b\b\b\b\b\b\b\b\b\b\b\b\b\b\b\b\b\b\b\b\b\b\b\b\b\b\b\b\b\b\b\b\b\b\b\b\b\b\b\b\b\b\b\b\b\b\b\b\b\b\b\b\b\b\b\b\b\b\b\b\b\b\b\r5354/5354 [==============================] - 122s 22ms/step - loss: 1.1527 - accuracy: 0.6394 - val_loss: 0.9033 - val_accuracy: 0.7255\n",
            "Training time: 0:02:23.174176\n"
          ]
        }
      ]
    },
    {
      "cell_type": "code",
      "source": [
        "# evaluate the performance the new model and report the results\n",
        "score = model.evaluate_generator(validate_generator, nb_validate_samples/batch_size)\n",
        "print(\"Test Score:\", score[0])\n",
        "print(\"Test Accuracy:\", score[1])"
      ],
      "metadata": {
        "colab": {
          "base_uri": "https://localhost:8080/"
        },
        "id": "TbEGpPZKipID",
        "outputId": "45185597-66dd-469c-d117-2cb5de68c17f"
      },
      "execution_count": null,
      "outputs": [
        {
          "output_type": "stream",
          "name": "stderr",
          "text": [
            "<ipython-input-25-b1de38505234>:2: UserWarning: `Model.evaluate_generator` is deprecated and will be removed in a future version. Please use `Model.evaluate`, which supports generators.\n",
            "  score = model.evaluate_generator(validate_generator, nb_validate_samples/batch_size)\n"
          ]
        },
        {
          "output_type": "stream",
          "name": "stdout",
          "text": [
            "Test Score: 0.9041362404823303\n",
            "Test Accuracy: 0.7496229410171509\n"
          ]
        }
      ]
    },
    {
      "cell_type": "code",
      "source": [
        "# save fine-tuning model for offline prediction purposes\n",
        "model.save('butterflies_vgg19_model_ft.h5')"
      ],
      "metadata": {
        "id": "FOskDFhIjSvJ"
      },
      "execution_count": null,
      "outputs": []
    },
    {
      "cell_type": "code",
      "source": [
        "num_images = len(glob.glob(\"/content/drive/MyDrive/Project/download.jpg\"))\n",
        "predict_files = glob.glob(\"/content/drive/MyDrive/Project/download.jpg\")\n",
        "\n",
        "im = cv2.imread(predict_files[0])\n",
        "im = cv2.cvtColor(im, cv2.COLOR_BGR2RGB)\n",
        "im = cv2.resize(im, (256, 256)).astype(np.float32)\n",
        "im = np.expand_dims(im, axis = 0)/255\n",
        "\n",
        "predictor, image_id = [], []\n",
        "for i in predict_files:\n",
        "    im = cv2.imread(i)\n",
        "    im = cv2.resize(cv2.cvtColor(im, cv2.COLOR_BGR2RGB), (256, 256)).astype(np.float32) / 255.0\n",
        "    im = np.expand_dims(im, axis =0)\n",
        "    outcome = [np.argmax(model.predict(im))]\n",
        "    predictor.extend(list(outcome))\n",
        "    image_id.extend([i.rsplit(\"\\\\\")[-1]])\n",
        "\n",
        "final = pd.DataFrame()\n",
        "final[\"id\"] = image_id\n",
        "final[\"Cheetah\"] = predictor\n",
        "\n",
        "classes = train_generator.class_indices\n",
        "classes = {value : key for key, value in classes.items()}\n",
        "\n",
        "final[\"Cheetah\"] = final[\"Cheetah\"].apply(lambda x: classes[x])\n",
        "final.head(num_images)"
      ],
      "metadata": {
        "colab": {
          "base_uri": "https://localhost:8080/",
          "height": 98
        },
        "id": "6Slxx9Fxl86T",
        "outputId": "651ac578-63ac-48a7-b6c3-51e818425ce0"
      },
      "execution_count": null,
      "outputs": [
        {
          "output_type": "stream",
          "name": "stdout",
          "text": [
            "1/1 [==============================] - 1s 685ms/step\n"
          ]
        },
        {
          "output_type": "execute_result",
          "data": {
            "text/plain": [
              "                                            id   Cheetah\n",
              "0  /content/drive/MyDrive/Project/download.jpg  cheetahs"
            ],
            "text/html": [
              "\n",
              "  <div id=\"df-6a4c1fad-6cf4-482e-a598-ebd351a1b02a\">\n",
              "    <div class=\"colab-df-container\">\n",
              "      <div>\n",
              "<style scoped>\n",
              "    .dataframe tbody tr th:only-of-type {\n",
              "        vertical-align: middle;\n",
              "    }\n",
              "\n",
              "    .dataframe tbody tr th {\n",
              "        vertical-align: top;\n",
              "    }\n",
              "\n",
              "    .dataframe thead th {\n",
              "        text-align: right;\n",
              "    }\n",
              "</style>\n",
              "<table border=\"1\" class=\"dataframe\">\n",
              "  <thead>\n",
              "    <tr style=\"text-align: right;\">\n",
              "      <th></th>\n",
              "      <th>id</th>\n",
              "      <th>Cheetah</th>\n",
              "    </tr>\n",
              "  </thead>\n",
              "  <tbody>\n",
              "    <tr>\n",
              "      <th>0</th>\n",
              "      <td>/content/drive/MyDrive/Project/download.jpg</td>\n",
              "      <td>cheetahs</td>\n",
              "    </tr>\n",
              "  </tbody>\n",
              "</table>\n",
              "</div>\n",
              "      <button class=\"colab-df-convert\" onclick=\"convertToInteractive('df-6a4c1fad-6cf4-482e-a598-ebd351a1b02a')\"\n",
              "              title=\"Convert this dataframe to an interactive table.\"\n",
              "              style=\"display:none;\">\n",
              "        \n",
              "  <svg xmlns=\"http://www.w3.org/2000/svg\" height=\"24px\"viewBox=\"0 0 24 24\"\n",
              "       width=\"24px\">\n",
              "    <path d=\"M0 0h24v24H0V0z\" fill=\"none\"/>\n",
              "    <path d=\"M18.56 5.44l.94 2.06.94-2.06 2.06-.94-2.06-.94-.94-2.06-.94 2.06-2.06.94zm-11 1L8.5 8.5l.94-2.06 2.06-.94-2.06-.94L8.5 2.5l-.94 2.06-2.06.94zm10 10l.94 2.06.94-2.06 2.06-.94-2.06-.94-.94-2.06-.94 2.06-2.06.94z\"/><path d=\"M17.41 7.96l-1.37-1.37c-.4-.4-.92-.59-1.43-.59-.52 0-1.04.2-1.43.59L10.3 9.45l-7.72 7.72c-.78.78-.78 2.05 0 2.83L4 21.41c.39.39.9.59 1.41.59.51 0 1.02-.2 1.41-.59l7.78-7.78 2.81-2.81c.8-.78.8-2.07 0-2.86zM5.41 20L4 18.59l7.72-7.72 1.47 1.35L5.41 20z\"/>\n",
              "  </svg>\n",
              "      </button>\n",
              "      \n",
              "  <style>\n",
              "    .colab-df-container {\n",
              "      display:flex;\n",
              "      flex-wrap:wrap;\n",
              "      gap: 12px;\n",
              "    }\n",
              "\n",
              "    .colab-df-convert {\n",
              "      background-color: #E8F0FE;\n",
              "      border: none;\n",
              "      border-radius: 50%;\n",
              "      cursor: pointer;\n",
              "      display: none;\n",
              "      fill: #1967D2;\n",
              "      height: 32px;\n",
              "      padding: 0 0 0 0;\n",
              "      width: 32px;\n",
              "    }\n",
              "\n",
              "    .colab-df-convert:hover {\n",
              "      background-color: #E2EBFA;\n",
              "      box-shadow: 0px 1px 2px rgba(60, 64, 67, 0.3), 0px 1px 3px 1px rgba(60, 64, 67, 0.15);\n",
              "      fill: #174EA6;\n",
              "    }\n",
              "\n",
              "    [theme=dark] .colab-df-convert {\n",
              "      background-color: #3B4455;\n",
              "      fill: #D2E3FC;\n",
              "    }\n",
              "\n",
              "    [theme=dark] .colab-df-convert:hover {\n",
              "      background-color: #434B5C;\n",
              "      box-shadow: 0px 1px 3px 1px rgba(0, 0, 0, 0.15);\n",
              "      filter: drop-shadow(0px 1px 2px rgba(0, 0, 0, 0.3));\n",
              "      fill: #FFFFFF;\n",
              "    }\n",
              "  </style>\n",
              "\n",
              "      <script>\n",
              "        const buttonEl =\n",
              "          document.querySelector('#df-6a4c1fad-6cf4-482e-a598-ebd351a1b02a button.colab-df-convert');\n",
              "        buttonEl.style.display =\n",
              "          google.colab.kernel.accessAllowed ? 'block' : 'none';\n",
              "\n",
              "        async function convertToInteractive(key) {\n",
              "          const element = document.querySelector('#df-6a4c1fad-6cf4-482e-a598-ebd351a1b02a');\n",
              "          const dataTable =\n",
              "            await google.colab.kernel.invokeFunction('convertToInteractive',\n",
              "                                                     [key], {});\n",
              "          if (!dataTable) return;\n",
              "\n",
              "          const docLinkHtml = 'Like what you see? Visit the ' +\n",
              "            '<a target=\"_blank\" href=https://colab.research.google.com/notebooks/data_table.ipynb>data table notebook</a>'\n",
              "            + ' to learn more about interactive tables.';\n",
              "          element.innerHTML = '';\n",
              "          dataTable['output_type'] = 'display_data';\n",
              "          await google.colab.output.renderOutput(dataTable, element);\n",
              "          const docLink = document.createElement('div');\n",
              "          docLink.innerHTML = docLinkHtml;\n",
              "          element.appendChild(docLink);\n",
              "        }\n",
              "      </script>\n",
              "    </div>\n",
              "  </div>\n",
              "  "
            ]
          },
          "metadata": {},
          "execution_count": 27
        }
      ]
    }
  ]
}